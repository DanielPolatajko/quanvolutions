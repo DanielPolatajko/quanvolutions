{
 "cells": [
  {
   "cell_type": "code",
   "execution_count": 100,
   "id": "incident-paintball",
   "metadata": {},
   "outputs": [
    {
     "name": "stdout",
     "output_type": "stream",
     "text": [
      "The autoreload extension is already loaded. To reload it, use:\n",
      "  %reload_ext autoreload\n"
     ]
    }
   ],
   "source": [
    "%load_ext autoreload"
   ]
  },
  {
   "cell_type": "code",
   "execution_count": 101,
   "id": "consistent-phone",
   "metadata": {},
   "outputs": [],
   "source": [
    "%autoreload 2"
   ]
  },
  {
   "cell_type": "code",
   "execution_count": 158,
   "id": "divided-appliance",
   "metadata": {},
   "outputs": [],
   "source": [
    "import pennylane as qml\n",
    "from quanvolution.quanv import TorchQuanvLayer\n",
    "import torch\n",
    "from torch import nn\n",
    "import pennylane as qml\n",
    "from pennylane import numpy as np\n",
    "from pennylane.templates import RandomLayers\n",
    "import torchvision\n",
    "from sklearn.metrics import accuracy_score\n",
    "from tqdm.notebook import tqdm\n",
    "from torchvision import transforms\n",
    "import time\n",
    "from torch.utils.data import Subset\n"
   ]
  },
  {
   "cell_type": "code",
   "execution_count": 168,
   "id": "competent-liberal",
   "metadata": {},
   "outputs": [],
   "source": [
    "n_qubits = 4\n",
    "dev2 = qml.device(\"default.qubit\", wires=n_qubits)\n",
    "\n",
    "@qml.qnode(dev2)\n",
    "def parameterised_qnode(inputs, weights):\n",
    "    qml.templates.AngleEmbedding(inputs, wires=range(n_qubits))\n",
    "    qml.templates.BasicEntanglerLayers(weights, wires=range(n_qubits))\n",
    "    return [qml.expval(qml.PauliZ(wires=i)) for i in range(n_qubits)]"
   ]
  },
  {
   "cell_type": "code",
   "execution_count": 169,
   "id": "written-thesaurus",
   "metadata": {},
   "outputs": [],
   "source": [
    "n_layers=1\n",
    "weight_shapes = {\"weights\": (n_layers, n_qubits)}\n",
    "qnode_layer = qml.qnn.TorchLayer(parameterised_qnode, weight_shapes=weight_shapes)"
   ]
  },
  {
   "cell_type": "code",
   "execution_count": 170,
   "id": "serious-reserve",
   "metadata": {},
   "outputs": [
    {
     "name": "stdout",
     "output_type": "stream",
     "text": [
      "60000\n"
     ]
    }
   ],
   "source": [
    "transform = transforms.Compose([\n",
    "    transforms.ToTensor(),\n",
    "])\n",
    "\n",
    "dataset = torchvision.datasets.MNIST(root='./mnist', train=True, download=True, transform=transform)\n",
    "\n",
    "print(len(dataset))\n",
    "\n",
    "train_set, test_set = torch.utils.data.random_split(dataset, [50000, 10000])\n",
    "\n",
    "train_indices = torch.randperm(len(train_set))[:50]\n",
    "test_indices = torch.randperm(len(test_set))[:10]\n",
    "\n",
    "train_set = Subset(train_set, train_indices)\n",
    "test_set = Subset(test_set, test_indices)\n",
    "\n",
    "train_loader = torch.utils.data.DataLoader(dataset=train_set, batch_size=4)\n",
    "test_loader = torch.utils.data.DataLoader(dataset=test_set, batch_size=4)"
   ]
  },
  {
   "cell_type": "code",
   "execution_count": 171,
   "id": "defined-waste",
   "metadata": {},
   "outputs": [],
   "source": [
    "model = torch.nn.Sequential(\n",
    "    TorchQuanvLayer(qnode_layer, kernel_size=(2,2), stride=2, out_channels=4),\n",
    "    TorchQuanvLayer(qnode_layer, kernel_size=(2,2), stride=2, out_channels=16),\n",
    "    torch.nn.Flatten(),\n",
    "    torch.nn.Linear(in_features=7*7*4*4, out_features=10)\n",
    ")"
   ]
  },
  {
   "cell_type": "code",
   "execution_count": 172,
   "id": "weekly-business",
   "metadata": {},
   "outputs": [],
   "source": [
    "optimiser = torch.optim.Adam(params=model.parameters(), lr=0.01)\n",
    "loss_function = torch.nn.CrossEntropyLoss()"
   ]
  },
  {
   "cell_type": "code",
   "execution_count": 173,
   "id": "progressive-digest",
   "metadata": {},
   "outputs": [],
   "source": [
    "def run_experiment(model, optimiser, loss_function):\n",
    "    \n",
    "    start = time.time()\n",
    "\n",
    "    for epoch in range(10):\n",
    "        # initiliase epoch loss and predictions for accuracy\n",
    "        cumulative_loss = 0.0\n",
    "        correct_preds = 0\n",
    "        model.train()\n",
    "        for (x, y) in tqdm(train_loader, total=len(train_loader)):\n",
    "\n",
    "            # do the business\n",
    "            optimiser.zero_grad()\n",
    "            outputs = model(x)\n",
    "            # make predictions\n",
    "            _, preds = torch.max(outputs, -1)\n",
    "            loss = loss_function(outputs, y)  \n",
    "            loss.backward()\n",
    "            optimiser.step()\n",
    "\n",
    "            # update loss and predictions\n",
    "            cumulative_loss += loss.item() * x.size(0)\n",
    "            correct_preds += torch.sum(preds == y.data).item()  \n",
    "            \n",
    "        train_epoch_loss = cumulative_loss / len(train_loader.dataset)\n",
    "        train_epoch_acc = correct_preds / len(train_loader.dataset)\n",
    "        \n",
    "        print(f\"Epoch {epoch}: Training Loss {train_epoch_loss} \\n Training Accuracy {train_epoch_acc} \\n Total time elapsed {time.time()-start}\")\n",
    "        \n",
    "        model.eval()\n",
    "        cumulative_val_loss = 0.\n",
    "        correct_val_preds = 0\n",
    "        for (x, y) in tqdm(test_loader, total=len(test_loader)):\n",
    "\n",
    "            # do the business\n",
    "            outputs = model(x)\n",
    "            # make predictions\n",
    "            _, preds = torch.max(outputs, -1)\n",
    "            loss = loss_function(outputs, y)  \n",
    "\n",
    "            # update loss and predictions\n",
    "            cumulative_val_loss += loss.item() * x.size(0)\n",
    "            correct_val_preds += torch.sum(preds == y.data).item()  \n",
    "            \n",
    "        val_epoch_loss = cumulative_val_loss / len(test_loader.dataset)\n",
    "        val_epoch_acc = correct_val_preds / len(test_loader.dataset)\n",
    "        \n",
    "        print(f\"Epoch {epoch}: Validation Loss {val_epoch_loss} \\n Validation Accuracy {val_epoch_acc} \\n Total time elapsed {time.time()-start}\")\n",
    "\n",
    "    return model"
   ]
  },
  {
   "cell_type": "code",
   "execution_count": 174,
   "id": "framed-admission",
   "metadata": {},
   "outputs": [
    {
     "data": {
      "application/vnd.jupyter.widget-view+json": {
       "model_id": "633bf9569dcc4666baee42afd6ac8345",
       "version_major": 2,
       "version_minor": 0
      },
      "text/plain": [
       "  0%|          | 0/13 [00:00<?, ?it/s]"
      ]
     },
     "metadata": {},
     "output_type": "display_data"
    },
    {
     "name": "stdout",
     "output_type": "stream",
     "text": [
      "Epoch 0: Training Loss 2.305353031158447 \n",
      " Training Accuracy 0.12 \n",
      " Total time elapsed 291.1890470981598\n"
     ]
    },
    {
     "data": {
      "application/vnd.jupyter.widget-view+json": {
       "model_id": "246959a3522a499296ecde60a5c1bc40",
       "version_major": 2,
       "version_minor": 0
      },
      "text/plain": [
       "  0%|          | 0/3 [00:00<?, ?it/s]"
      ]
     },
     "metadata": {},
     "output_type": "display_data"
    },
    {
     "name": "stdout",
     "output_type": "stream",
     "text": [
      "Epoch 0: Validation Loss 2.298046112060547 \n",
      " Validation Accuracy 0.1 \n",
      " Total time elapsed 301.5173215866089\n"
     ]
    },
    {
     "data": {
      "application/vnd.jupyter.widget-view+json": {
       "model_id": "ea2af09b719a4f288843405d5bca281c",
       "version_major": 2,
       "version_minor": 0
      },
      "text/plain": [
       "  0%|          | 0/13 [00:00<?, ?it/s]"
      ]
     },
     "metadata": {},
     "output_type": "display_data"
    },
    {
     "name": "stdout",
     "output_type": "stream",
     "text": [
      "Epoch 1: Training Loss 2.0745471572875975 \n",
      " Training Accuracy 0.58 \n",
      " Total time elapsed 597.7529082298279\n"
     ]
    },
    {
     "data": {
      "application/vnd.jupyter.widget-view+json": {
       "model_id": "869daa2a8c4b4ee29e7b3c67a57052ef",
       "version_major": 2,
       "version_minor": 0
      },
      "text/plain": [
       "  0%|          | 0/3 [00:00<?, ?it/s]"
      ]
     },
     "metadata": {},
     "output_type": "display_data"
    },
    {
     "name": "stdout",
     "output_type": "stream",
     "text": [
      "Epoch 1: Validation Loss 2.2632441997528074 \n",
      " Validation Accuracy 0.1 \n",
      " Total time elapsed 605.9923114776611\n"
     ]
    },
    {
     "data": {
      "application/vnd.jupyter.widget-view+json": {
       "model_id": "1481fb449abb4ea3b5f8e4e2db29141b",
       "version_major": 2,
       "version_minor": 0
      },
      "text/plain": [
       "  0%|          | 0/13 [00:00<?, ?it/s]"
      ]
     },
     "metadata": {},
     "output_type": "display_data"
    },
    {
     "name": "stdout",
     "output_type": "stream",
     "text": [
      "Epoch 2: Training Loss 1.8062255477905274 \n",
      " Training Accuracy 0.54 \n",
      " Total time elapsed 902.9067921638489\n"
     ]
    },
    {
     "data": {
      "application/vnd.jupyter.widget-view+json": {
       "model_id": "231590d361b145dcb54700ad0a359cf7",
       "version_major": 2,
       "version_minor": 0
      },
      "text/plain": [
       "  0%|          | 0/3 [00:00<?, ?it/s]"
      ]
     },
     "metadata": {},
     "output_type": "display_data"
    },
    {
     "name": "stdout",
     "output_type": "stream",
     "text": [
      "Epoch 2: Validation Loss 2.3081400871276854 \n",
      " Validation Accuracy 0.1 \n",
      " Total time elapsed 912.8048276901245\n"
     ]
    },
    {
     "data": {
      "application/vnd.jupyter.widget-view+json": {
       "model_id": "4c0d38a00aac495cb992f5a11ced0abb",
       "version_major": 2,
       "version_minor": 0
      },
      "text/plain": [
       "  0%|          | 0/13 [00:00<?, ?it/s]"
      ]
     },
     "metadata": {},
     "output_type": "display_data"
    },
    {
     "name": "stdout",
     "output_type": "stream",
     "text": [
      "Epoch 3: Training Loss 1.509759669303894 \n",
      " Training Accuracy 0.74 \n",
      " Total time elapsed 1199.2184793949127\n"
     ]
    },
    {
     "data": {
      "application/vnd.jupyter.widget-view+json": {
       "model_id": "3755ae636c7b4888bcd6023e60c4a87e",
       "version_major": 2,
       "version_minor": 0
      },
      "text/plain": [
       "  0%|          | 0/3 [00:00<?, ?it/s]"
      ]
     },
     "metadata": {},
     "output_type": "display_data"
    },
    {
     "name": "stdout",
     "output_type": "stream",
     "text": [
      "Epoch 3: Validation Loss 2.358138847351074 \n",
      " Validation Accuracy 0.1 \n",
      " Total time elapsed 1207.6711556911469\n"
     ]
    },
    {
     "data": {
      "application/vnd.jupyter.widget-view+json": {
       "model_id": "5d6208c69526461e88065033323080db",
       "version_major": 2,
       "version_minor": 0
      },
      "text/plain": [
       "  0%|          | 0/13 [00:00<?, ?it/s]"
      ]
     },
     "metadata": {},
     "output_type": "display_data"
    },
    {
     "name": "stdout",
     "output_type": "stream",
     "text": [
      "Epoch 4: Training Loss 1.166794981956482 \n",
      " Training Accuracy 0.8 \n",
      " Total time elapsed 1485.3968822956085\n"
     ]
    },
    {
     "data": {
      "application/vnd.jupyter.widget-view+json": {
       "model_id": "e54ea61c254d4f258b3c286406828590",
       "version_major": 2,
       "version_minor": 0
      },
      "text/plain": [
       "  0%|          | 0/3 [00:00<?, ?it/s]"
      ]
     },
     "metadata": {},
     "output_type": "display_data"
    },
    {
     "name": "stdout",
     "output_type": "stream",
     "text": [
      "Epoch 4: Validation Loss 2.3496920585632326 \n",
      " Validation Accuracy 0.3 \n",
      " Total time elapsed 1493.4524700641632\n"
     ]
    },
    {
     "data": {
      "application/vnd.jupyter.widget-view+json": {
       "model_id": "e2bd6e081ef84d0fabd7efc22aa66b16",
       "version_major": 2,
       "version_minor": 0
      },
      "text/plain": [
       "  0%|          | 0/13 [00:00<?, ?it/s]"
      ]
     },
     "metadata": {},
     "output_type": "display_data"
    },
    {
     "name": "stdout",
     "output_type": "stream",
     "text": [
      "Epoch 5: Training Loss 0.7364475274085999 \n",
      " Training Accuracy 0.96 \n",
      " Total time elapsed 1758.165236234665\n"
     ]
    },
    {
     "data": {
      "application/vnd.jupyter.widget-view+json": {
       "model_id": "11b11a0f76f0415890f7573c81fda14c",
       "version_major": 2,
       "version_minor": 0
      },
      "text/plain": [
       "  0%|          | 0/3 [00:00<?, ?it/s]"
      ]
     },
     "metadata": {},
     "output_type": "display_data"
    },
    {
     "name": "stdout",
     "output_type": "stream",
     "text": [
      "Epoch 5: Validation Loss 2.450683069229126 \n",
      " Validation Accuracy 0.3 \n",
      " Total time elapsed 1766.171458721161\n"
     ]
    },
    {
     "data": {
      "application/vnd.jupyter.widget-view+json": {
       "model_id": "081dac15fa384abaa85ecd1c7f93d879",
       "version_major": 2,
       "version_minor": 0
      },
      "text/plain": [
       "  0%|          | 0/13 [00:00<?, ?it/s]"
      ]
     },
     "metadata": {},
     "output_type": "display_data"
    },
    {
     "name": "stdout",
     "output_type": "stream",
     "text": [
      "Epoch 6: Training Loss 0.3752254854142666 \n",
      " Training Accuracy 1.0 \n",
      " Total time elapsed 2028.7741787433624\n"
     ]
    },
    {
     "data": {
      "application/vnd.jupyter.widget-view+json": {
       "model_id": "7c5595ffc9ec4df2b49e14fbef8aa15a",
       "version_major": 2,
       "version_minor": 0
      },
      "text/plain": [
       "  0%|          | 0/3 [00:00<?, ?it/s]"
      ]
     },
     "metadata": {},
     "output_type": "display_data"
    },
    {
     "name": "stdout",
     "output_type": "stream",
     "text": [
      "Epoch 6: Validation Loss 2.672013854980469 \n",
      " Validation Accuracy 0.3 \n",
      " Total time elapsed 2036.6593129634857\n"
     ]
    },
    {
     "data": {
      "application/vnd.jupyter.widget-view+json": {
       "model_id": "4595bb618cd8493d85918539b02f83c6",
       "version_major": 2,
       "version_minor": 0
      },
      "text/plain": [
       "  0%|          | 0/13 [00:00<?, ?it/s]"
      ]
     },
     "metadata": {},
     "output_type": "display_data"
    },
    {
     "name": "stdout",
     "output_type": "stream",
     "text": [
      "Epoch 7: Training Loss 0.17588809423148632 \n",
      " Training Accuracy 1.0 \n",
      " Total time elapsed 2299.609493494034\n"
     ]
    },
    {
     "data": {
      "application/vnd.jupyter.widget-view+json": {
       "model_id": "f5881a2aa49b4aeb8d0221261fedff6f",
       "version_major": 2,
       "version_minor": 0
      },
      "text/plain": [
       "  0%|          | 0/3 [00:00<?, ?it/s]"
      ]
     },
     "metadata": {},
     "output_type": "display_data"
    },
    {
     "name": "stdout",
     "output_type": "stream",
     "text": [
      "Epoch 7: Validation Loss 2.7957467555999758 \n",
      " Validation Accuracy 0.3 \n",
      " Total time elapsed 2307.567653656006\n"
     ]
    },
    {
     "data": {
      "application/vnd.jupyter.widget-view+json": {
       "model_id": "bd24191f31804e4d8acfe9cc4656806f",
       "version_major": 2,
       "version_minor": 0
      },
      "text/plain": [
       "  0%|          | 0/13 [00:00<?, ?it/s]"
      ]
     },
     "metadata": {},
     "output_type": "display_data"
    },
    {
     "name": "stdout",
     "output_type": "stream",
     "text": [
      "Epoch 8: Training Loss 0.09078230263665318 \n",
      " Training Accuracy 1.0 \n",
      " Total time elapsed 2570.0426392555237\n"
     ]
    },
    {
     "data": {
      "application/vnd.jupyter.widget-view+json": {
       "model_id": "511aabffca1640f2b49ef2870bf10107",
       "version_major": 2,
       "version_minor": 0
      },
      "text/plain": [
       "  0%|          | 0/3 [00:00<?, ?it/s]"
      ]
     },
     "metadata": {},
     "output_type": "display_data"
    },
    {
     "name": "stdout",
     "output_type": "stream",
     "text": [
      "Epoch 8: Validation Loss 2.926401424407959 \n",
      " Validation Accuracy 0.4 \n",
      " Total time elapsed 2577.973256111145\n"
     ]
    },
    {
     "data": {
      "application/vnd.jupyter.widget-view+json": {
       "model_id": "0c582ff1d13f4d9bb555443ff22df8d7",
       "version_major": 2,
       "version_minor": 0
      },
      "text/plain": [
       "  0%|          | 0/13 [00:00<?, ?it/s]"
      ]
     },
     "metadata": {},
     "output_type": "display_data"
    },
    {
     "name": "stdout",
     "output_type": "stream",
     "text": [
      "Epoch 9: Training Loss 0.057003190610557794 \n",
      " Training Accuracy 1.0 \n",
      " Total time elapsed 2865.6566450595856\n"
     ]
    },
    {
     "data": {
      "application/vnd.jupyter.widget-view+json": {
       "model_id": "2450956adec44e0281431b313eb07bba",
       "version_major": 2,
       "version_minor": 0
      },
      "text/plain": [
       "  0%|          | 0/3 [00:00<?, ?it/s]"
      ]
     },
     "metadata": {},
     "output_type": "display_data"
    },
    {
     "name": "stdout",
     "output_type": "stream",
     "text": [
      "Epoch 9: Validation Loss 3.0200959205627442 \n",
      " Validation Accuracy 0.4 \n",
      " Total time elapsed 2874.017060995102\n"
     ]
    },
    {
     "data": {
      "text/plain": [
       "Sequential(\n",
       "  (0): TorchQuanvLayer(\n",
       "    (qnode): <Quantum Torch Layer: func=parameterised_qnode>\n",
       "  )\n",
       "  (1): TorchQuanvLayer(\n",
       "    (qnode): <Quantum Torch Layer: func=parameterised_qnode>\n",
       "  )\n",
       "  (2): Flatten(start_dim=1, end_dim=-1)\n",
       "  (3): Linear(in_features=784, out_features=10, bias=True)\n",
       ")"
      ]
     },
     "execution_count": 174,
     "metadata": {},
     "output_type": "execute_result"
    }
   ],
   "source": [
    "run_experiment(model, optimiser, loss_function)"
   ]
  },
  {
   "cell_type": "code",
   "execution_count": null,
   "id": "flush-maker",
   "metadata": {},
   "outputs": [],
   "source": []
  },
  {
   "cell_type": "code",
   "execution_count": null,
   "id": "detailed-sellers",
   "metadata": {},
   "outputs": [],
   "source": []
  }
 ],
 "metadata": {
  "kernelspec": {
   "display_name": "Python 3",
   "language": "python",
   "name": "python3"
  },
  "language_info": {
   "codemirror_mode": {
    "name": "ipython",
    "version": 3
   },
   "file_extension": ".py",
   "mimetype": "text/x-python",
   "name": "python",
   "nbconvert_exporter": "python",
   "pygments_lexer": "ipython3",
   "version": "3.8.5"
  }
 },
 "nbformat": 4,
 "nbformat_minor": 5
}
